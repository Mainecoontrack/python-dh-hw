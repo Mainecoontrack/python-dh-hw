{
 "cells": [
  {
   "cell_type": "code",
   "execution_count": 1,
   "metadata": {},
   "outputs": [
    {
     "name": "stdout",
     "output_type": "stream",
     "text": [
      "варкалось хлияяяяяяяяяяяяяяяяяяяяяяяяяяяяяяяяяяявкие\n",
      "хливкие шорьки\n",
      "шорьки пырялись\n",
      "пырялись по\n",
      "по наве\n",
      "наве и\n",
      "и хрюкотали\n",
      "хрюкотали зелюки\n",
      "зелюки как\n",
      "как мюмзики\n",
      "мюмзики в\n",
      "в мяяяяяяяяяяяяяяяяяяяяяяяяяяяяяяяяяяяяяяяяяяяяяяяяяяяяяяяове\n",
      "мове о\n",
      "о бойся\n",
      "бойся бармаглота\n",
      "бармаглота сын\n",
      "сын он\n",
      "он так\n",
      "так свирлеп\n",
      "свирлеп и\n",
      "и дик\n",
      "дик а\n",
      "а в\n",
      "в глyще\n",
      "глyще рымит\n",
      "рымит исполин\n",
      "исполин злопастный\n",
      "злопастный брандашмыг\n"
     ]
    }
   ],
   "source": [
    "sen=\"варкалось хливкие шорьки пырялись по наве и хрюкотали зелюки как мюмзики в мове о бойся бармаглота сын он так свирлеп и дик а в глyще рымит исполин злопастный брандашмыг\"\n",
    "words=sen.split()\n",
    "mas = []\n",
    "for i in range(len(words) - 1):\n",
    "    mas.append(words[i] + ' ' + words[i + 1])\n",
    "    print(mas[i])\n"
   ]
  },
  {
   "cell_type": "code",
   "execution_count": 13,
   "metadata": {},
   "outputs": [
    {
     "name": "stdout",
     "output_type": "stream",
     "text": [
      "<module 'ntpath' from 'C:\\\\Users\\\\User\\\\Anaconda3\\\\lib\\\\ntpath.py'>\n",
      "C:/Users/User/Desktop/poems\\боль.txt\n",
      "C:/Users/User/Desktop/poems\\ворон.txt\n",
      "C:/Users/User/Desktop/poems\\деды.txt\n",
      "C:/Users/User/Desktop/poems\\кладь.txt\n",
      "C:/Users/User/Desktop/poems\\ночь.txt\n",
      "C:/Users/User/Desktop/poems\\шредингер.txt\n",
      "C:/Users/User/Desktop/poems\\котики\\кот.txt\n",
      "C:/Users/User/Desktop/poems\\котики\\лео.txt\n",
      "C:/Users/User/Desktop/poems\\котики\\пушок.txt\n",
      "C:/Users/User/Desktop/poems\\сказки\\гримм.txt\n",
      "C:/Users/User/Desktop/poems\\сказки\\королевич.txt\n",
      "C:/Users/User/Desktop/poems\\сказки\\король.txt\n",
      "C:/Users/User/Desktop/poems\\сказки\\крестная.txt\n",
      "C:/Users/User/Desktop/poems\\сказки\\яга.txt\n",
      "14\n"
     ]
    }
   ],
   "source": [
    "import os\n",
    "os.chdir(\"C:/Users/User/Desktop/poems\")\n",
    "print(os.path)\n",
    "ans = 0\n",
    "for root, dirs, files in os.walk('C:/Users/User/Desktop/poems'):\n",
    "    for name in files:\n",
    "        fullname = os.path.join(root, name)\n",
    "        print(fullname)\n",
    "    ans += len(files)\n",
    "print(ans)"
   ]
  },
  {
   "cell_type": "code",
   "execution_count": null,
   "metadata": {},
   "outputs": [],
   "source": []
  }
 ],
 "metadata": {
  "kernelspec": {
   "display_name": "Python 3",
   "language": "python",
   "name": "python3"
  },
  "language_info": {
   "codemirror_mode": {
    "name": "ipython",
    "version": 3
   },
   "file_extension": ".py",
   "mimetype": "text/x-python",
   "name": "python",
   "nbconvert_exporter": "python",
   "pygments_lexer": "ipython3",
   "version": "3.7.0"
  }
 },
 "nbformat": 4,
 "nbformat_minor": 2
}
