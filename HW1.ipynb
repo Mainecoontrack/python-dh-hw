{
 "cells": [
  {
   "cell_type": "code",
   "execution_count": null,
   "metadata": {},
   "outputs": [],
   "source": [
    "a,b,c,d,f=\"\",\"\",\"\",\"\",\"\"\n",
    "n=int(input())\n",
    "for num in range(n):\n",
    "    a+=\"   _~_    \"\n",
    "    b+=\"  (o o)   \"\n",
    "    c+=\" /  V  \\\\  \"\n",
    "    d+=\"/(  _  )\\\\ \"\n",
    "    f+=\"  ^^ ^^   \"\n",
    "print(a)\n",
    "print(b)\n",
    "print(c)\n",
    "print(d)\n",
    "print(f)"
   ]
  },
  {
   "cell_type": "code",
   "execution_count": null,
   "metadata": {},
   "outputs": [],
   "source": [
    "s=input()\n",
    "print(s.count(\" \")+1)\n",
    "print(len(s)-s.count(\" \"))"
   ]
  },
  {
   "cell_type": "code",
   "execution_count": null,
   "metadata": {},
   "outputs": [],
   "source": [
    "s1=\"bumurtjyf6udrjumnu6dnsdcszxsdvllcds\"\n",
    "print(s1[2])\n",
    "print(s1[-2])\n",
    "print(s1[:5])\n",
    "print(s1[:-2])\n",
    "print(s1[::2])\n",
    "print(s1[1::2])\n",
    "print(s1[::-1])\n",
    "print(s1[::-2])\n",
    "print(len(s1))"
   ]
  },
  {
   "cell_type": "code",
   "execution_count": null,
   "metadata": {},
   "outputs": [],
   "source": [
    "s2=\"abba\"\n",
    "s3=\"abada\"\n",
    "if (s2==s2[::-1]):\n",
    "    print(\"yes\")\n",
    "else:\n",
    "    print(\"no\")\n",
    "if (s3==s3[::-1]):\n",
    "    print(\"yes\")\n",
    "else:\n",
    "    print(\"no\")\n",
    "    "
   ]
  },
  {
   "cell_type": "code",
   "execution_count": null,
   "metadata": {},
   "outputs": [],
   "source": [
    "text=\"законы физики рядом с черной дырой уже не работают в том представлении в котором мы привыкли \\\n",
    "пространство время искривляется и все события протекают уже совсем по другому \\\n",
    "словно пылесос черная дыра поглощает все что находится около нее планеты астероиды свет и прочее \\\n",
    "ранее считалось что черная дыра ничего не излучает но как доказал стивен хокинг черная дыра излучает антивещество \\\n",
    "то есть поедает вещество и выделяет антивещество \\\n",
    "ранее думали что если кинуть в черную дыру человека то ему труба порвет на субатомы \\\n",
    "но как оказалось по некоторым уравнениям есть определенные траектории путешествия сквозь черную дыру чтоб чувствовать себя нормально \\\n",
    "правда не ясно что будет за ней другой мир или ничего \\\n",
    "область вокруг черной дыры которая интересна называется горизонтом событий \\\n",
    "если туда полететь не зная волшебное уравнение то будет конечно не очень \\\n",
    "наблюдатель будет видеть как космический корабль влетает в горизонт событий и крайне медленно потом отдаляется пока не застынет в центре\\\n",
    "у самого же космонавта дела будут идти совсем по другому \\\n",
    "искривленное пространство будет лепить из него как из пластилина различные формы пока наконец не разорвет все на субатомы \\\n",
    "но для внешнего наблюдателя космонавт навсегда останется улыбающимся и махающим в иллюминатор застывшим изображением\"\n",
    "words = text.split()\n",
    "print(\"введите текст\")\n",
    "word1=input()\n",
    "repeats=text.count(word1)\n",
    "if(repeats==0):\n",
    "    text+=word1\n",
    "    print(\"Слово %s добавлено\" % (word1)) \n",
    "else:\n",
    "    print(\"Слово %s встречается %d раз\" % (word1, repeats)) "
   ]
  },
  {
   "cell_type": "code",
   "execution_count": null,
   "metadata": {},
   "outputs": [],
   "source": [
    "help(print)"
   ]
  },
  {
   "cell_type": "code",
   "execution_count": null,
   "metadata": {},
   "outputs": [],
   "source": []
  }
 ],
 "metadata": {
  "kernelspec": {
   "display_name": "Python 3",
   "language": "python",
   "name": "python3"
  },
  "language_info": {
   "codemirror_mode": {
    "name": "ipython",
    "version": 3
   },
   "file_extension": ".py",
   "mimetype": "text/x-python",
   "name": "python",
   "nbconvert_exporter": "python",
   "pygments_lexer": "ipython3",
   "version": "3.7.0"
  }
 },
 "nbformat": 4,
 "nbformat_minor": 2
}
